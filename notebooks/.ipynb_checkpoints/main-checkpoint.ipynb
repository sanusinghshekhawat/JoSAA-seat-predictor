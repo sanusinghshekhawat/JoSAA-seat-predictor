{
 "cells": [
  {
   "cell_type": "code",
   "execution_count": 1,
   "id": "4e0ae795-419b-4539-975b-25c5955ce15a",
   "metadata": {},
   "outputs": [],
   "source": [
    "# importing libraries\n",
    "import pandas as pd\n",
    "import numpy as np\n",
    "from matplotlib import pyplot as plt"
   ]
  },
  {
   "cell_type": "code",
   "execution_count": 2,
   "id": "02fca746-2107-4114-ad0c-75b01c0ced6d",
   "metadata": {},
   "outputs": [
    {
     "name": "stdout",
     "output_type": "stream",
     "text": [
      "<class 'pandas.core.frame.DataFrame'>\n",
      "RangeIndex: 12844 entries, 0 to 12843\n",
      "Data columns (total 9 columns):\n",
      " #   Column      Non-Null Count  Dtype  \n",
      "---  ------      --------------  -----  \n",
      " 0   Index       12844 non-null  int64  \n",
      " 1   institute   12835 non-null  object \n",
      " 2   branch      12835 non-null  object \n",
      " 3   Unnamed: 3  0 non-null      float64\n",
      " 4   seat_type   12835 non-null  object \n",
      " 5   gender      12355 non-null  object \n",
      " 6   or          12150 non-null  float64\n",
      " 7   cr          12039 non-null  float64\n",
      " 8   year        12844 non-null  int64  \n",
      "dtypes: float64(3), int64(2), object(4)\n",
      "memory usage: 903.2+ KB\n"
     ]
    }
   ],
   "source": [
    "# load file\n",
    "data = pd.read_csv('data/or_cr/merged.csv')\n",
    "df = pd.DataFrame(data)\n",
    "df.info()"
   ]
  },
  {
   "cell_type": "code",
   "execution_count": 3,
   "id": "13b28bae-1760-4cca-9623-bea7463f18e9",
   "metadata": {},
   "outputs": [
    {
     "data": {
      "text/plain": [
       "array(['Indian Institute  of Technology Bhubaneswar',\n",
       "       'Indian Institute  of Technology Bombay',\n",
       "       'Indian Institute  of Technology Mandi',\n",
       "       'Indian Institute  of Technology Delhi',\n",
       "       'Indian Institute  of Technology Indore',\n",
       "       'Indian Institute  of Technology Kharagpur',\n",
       "       'Indian Institute  of Technology Hyderabad',\n",
       "       'Indian Institute  of Technology Jodhpur',\n",
       "       'Indian Institute  of Technology Kanpur',\n",
       "       'Indian Institute  of Technology Madras',\n",
       "       'Indian Institute  of Technology Gandhinagar',\n",
       "       'Indian Institute  of Technology Patna',\n",
       "       'Indian Institute  of Technology Roorkee',\n",
       "       'Indian Institute  of Technology (ISM) Dhanbad',\n",
       "       'Indian Institute  of Technology Ropar',\n",
       "       'Indian Institute  of Technology (BHU) Varanasi',\n",
       "       'Indian Institute  of Technology Guwahati',\n",
       "       'Indian Institute of Technology Bhilai',\n",
       "       'Indian Institute of Technology Goa',\n",
       "       'Indian Institute  of Technology Palakkad',\n",
       "       'Indian Institute  of Technology Tirupati',\n",
       "       'Indian Institute of Technology Jammu',\n",
       "       'Indian Institute of Technology Dharwad'], dtype=object)"
      ]
     },
     "execution_count": 3,
     "metadata": {},
     "output_type": "execute_result"
    }
   ],
   "source": [
    "#1. cleaning the data\n",
    "\n",
    "#a. dropping useless columns\n",
    "df = df.drop(df.columns[[0,3]], axis = 1)\n",
    "\n",
    "# clearing null\n",
    "df = df.dropna(thresh = 3)\n",
    "\n",
    "# selecting only open seat types\n",
    "df = df[df['seat_type']=='OPEN']\n",
    "\n",
    "# discarding female only seats \n",
    "df = df[df['gender']!= 'Female-only (including Supernumerary)']\n",
    "\n",
    "# converting null gender values to neutral\n",
    "df['gender'] = \"neutral\"\n",
    "\n",
    "# converting or and cr to int\n",
    "df['or'] = df['or'].astype(int)\n",
    "df['cr'] = df['cr'].astype(int)\n",
    "\n",
    "# renaming ISM to IIT Dhanbad\n",
    "df['institute'] = df['institute'].replace(\"Indian School of Mines Dhanbad\", \"Indian Institute  of Technology (ISM) Dhanbad\")\n",
    "df['institute'].unique()"
   ]
  },
  {
   "cell_type": "code",
   "execution_count": 4,
   "id": "60846983-fe1b-4c61-9ab0-3fe77d4152cc",
   "metadata": {},
   "outputs": [
    {
     "data": {
      "text/html": [
       "<div>\n",
       "<style scoped>\n",
       "    .dataframe tbody tr th:only-of-type {\n",
       "        vertical-align: middle;\n",
       "    }\n",
       "\n",
       "    .dataframe tbody tr th {\n",
       "        vertical-align: top;\n",
       "    }\n",
       "\n",
       "    .dataframe thead th {\n",
       "        text-align: right;\n",
       "    }\n",
       "</style>\n",
       "<table border=\"1\" class=\"dataframe\">\n",
       "  <thead>\n",
       "    <tr style=\"text-align: right;\">\n",
       "      <th></th>\n",
       "      <th>institute</th>\n",
       "      <th>branch</th>\n",
       "      <th>seat_type</th>\n",
       "      <th>gender</th>\n",
       "      <th>or</th>\n",
       "      <th>cr</th>\n",
       "      <th>year</th>\n",
       "      <th>course</th>\n",
       "      <th>course_id</th>\n",
       "    </tr>\n",
       "  </thead>\n",
       "  <tbody>\n",
       "    <tr>\n",
       "      <th>12818</th>\n",
       "      <td>Indian Institute of Technology Jammu</td>\n",
       "      <td>Engineering Physics (4 Years, Bachelor of Tech...</td>\n",
       "      <td>OPEN</td>\n",
       "      <td>neutral</td>\n",
       "      <td>13029</td>\n",
       "      <td>15917</td>\n",
       "      <td>2025</td>\n",
       "      <td>Indian Institute of Technology Jammu_Engineeri...</td>\n",
       "      <td>399</td>\n",
       "    </tr>\n",
       "  </tbody>\n",
       "</table>\n",
       "</div>"
      ],
      "text/plain": [
       "                                  institute  \\\n",
       "12818  Indian Institute of Technology Jammu   \n",
       "\n",
       "                                                  branch seat_type   gender  \\\n",
       "12818  Engineering Physics (4 Years, Bachelor of Tech...      OPEN  neutral   \n",
       "\n",
       "          or     cr  year                                             course  \\\n",
       "12818  13029  15917  2025  Indian Institute of Technology Jammu_Engineeri...   \n",
       "\n",
       "       course_id  \n",
       "12818        399  "
      ]
     },
     "execution_count": 4,
     "metadata": {},
     "output_type": "execute_result"
    }
   ],
   "source": [
    "#modifying data\n",
    "\n",
    "# creating a course column\n",
    "df['course'] = df['institute'] + '_' + df['branch']\n",
    "df['course_id'] = pd.factorize(df['course'])[0] + 1\n",
    "\n",
    "#Q1 How many different courses are provided by IITs\n",
    "df[df['course_id'] == df['course_id'].max()] \n",
    "#416 different courses are provided by all IITs basen upon JEE Advance Score\n",
    "\n",
    "#saved cleaned and prepared dataset\n",
    "# df.to_csv('or_cr/cleaned_cr_data.csv', index = False)"
   ]
  },
  {
   "cell_type": "code",
   "execution_count": 5,
   "id": "2f2cd649-78e0-4f2c-a8e5-4e679ef4bda8",
   "metadata": {},
   "outputs": [
    {
     "name": "stdout",
     "output_type": "stream",
     "text": [
      "Dropped: 34\n",
      "Remaining rows: 2642\n",
      "Unique course_ids after reset: 365\n"
     ]
    }
   ],
   "source": [
    "# Count number of years per course_id\n",
    "counts = df.groupby(\"course_id\")[\"year\"].count()\n",
    "\n",
    "# Get course_ids that appear only once\n",
    "invalid_courses = counts[counts == 1].index\n",
    "\n",
    "# Drop those course_ids\n",
    "df_clean = df[~df[\"course_id\"].isin(invalid_courses)].copy()\n",
    "\n",
    "# Reset course_id (sequential renumbering)\n",
    "df_clean[\"course_id\"] = df_clean.groupby(\n",
    "    \"course_id\", sort=False\n",
    ").ngroup() + 1  # new ids start from 1\n",
    "\n",
    "# Reset index as well\n",
    "df_clean = df_clean.reset_index(drop=True)\n",
    "\n",
    "print(\"Dropped:\", len(invalid_courses))\n",
    "print(\"Remaining rows:\", len(df_clean))\n",
    "print(\"Unique course_ids after reset:\", df_clean[\"course_id\"].nunique())\n"
   ]
  },
  {
   "cell_type": "code",
   "execution_count": 6,
   "id": "1086f3a9-e8c1-4766-808a-1861a4739ba1",
   "metadata": {},
   "outputs": [],
   "source": [
    "# adding seats column by mapping year to seats\n",
    "seats_per_year = {\n",
    "    2016: 10572,\n",
    "    2017: 10998,\n",
    "    2018: 11279,\n",
    "    2019: 13583,\n",
    "    2020: 16053,\n",
    "    2021: 16232,\n",
    "    2022: 16598,\n",
    "    2023: 17385,\n",
    "    2024: 17740,\n",
    "    2025: 18160}\n",
    "\n",
    "df_clean[\"total_seats\"] = df_clean[\"year\"].map(seats_per_year)"
   ]
  },
  {
   "cell_type": "code",
   "execution_count": 1,
   "id": "d0a6906d-1b58-4aa8-b250-5cd3fb51738c",
   "metadata": {},
   "outputs": [
    {
     "ename": "NameError",
     "evalue": "name 'df' is not defined",
     "output_type": "error",
     "traceback": [
      "\u001b[1;31m---------------------------------------------------------------------------\u001b[0m",
      "\u001b[1;31mNameError\u001b[0m                                 Traceback (most recent call last)",
      "Cell \u001b[1;32mIn[1], line 1\u001b[0m\n\u001b[1;32m----> 1\u001b[0m df_plot \u001b[38;5;241m=\u001b[39m df[df[\u001b[38;5;124m'\u001b[39m\u001b[38;5;124mcourse_id\u001b[39m\u001b[38;5;124m'\u001b[39m]\u001b[38;5;241m==\u001b[39m\u001b[38;5;241m100\u001b[39m]\n\u001b[0;32m      2\u001b[0m plt\u001b[38;5;241m.\u001b[39mscatter(df_plot[\u001b[38;5;124m'\u001b[39m\u001b[38;5;124myear\u001b[39m\u001b[38;5;124m'\u001b[39m], df_plot[\u001b[38;5;124m'\u001b[39m\u001b[38;5;124mcr\u001b[39m\u001b[38;5;124m'\u001b[39m])\n\u001b[0;32m      3\u001b[0m plt\u001b[38;5;241m.\u001b[39mshow()\n",
      "\u001b[1;31mNameError\u001b[0m: name 'df' is not defined"
     ]
    }
   ],
   "source": [
    "df_plot = df[df['course_id']==100]\n",
    "plt.scatter(df_plot['year'], df_plot['cr'])\n",
    "plt.show()"
   ]
  },
  {
   "cell_type": "code",
   "execution_count": 9,
   "id": "a86159b2-5071-48e7-a8fb-de4b5627956b",
   "metadata": {},
   "outputs": [
    {
     "name": "stdout",
     "output_type": "stream",
     "text": [
      "[10572 10998 11279 13583 16053 16232 16598 17385 17740 18160]\n"
     ]
    }
   ],
   "source": [
    "# Using Simple linear Regresison dependent variable is closing ranks independent variable is no of seats\n",
    "results = []\n",
    "print(df_clean['total_seats'].unique())\n",
    "for i in range(1,df_clean[\"course_id\"].nunique()):\n",
    "    d = df_clean[df_clean['course_id']== i]\n",
    "    X = np.vstack([np.ones(len(d)), d['total_seats'].values])\n",
    "    Y = d['cr'].values.reshape(-1, 1)\n",
    "    B = np.linalg.inv(X@X.T)@(X@Y)\n",
    "    X_2026 = np.array([[1,18500]])\n",
    "    Y_2026 = X_2026@B\n",
    "    results.append({\n",
    "        \"course_id\": i,\n",
    "        \"year\": 2026,\n",
    "        \"total_seats\": 18500,\n",
    "        \"cr\": int(Y_2026[0][0])\n",
    "    })\n",
    "df_pred = pd.DataFrame(results)\n",
    "df_final = pd.concat([df_clean, df_pred], ignore_index=True)"
   ]
  },
  {
   "cell_type": "code",
   "execution_count": 10,
   "id": "c99c1a00-9b53-4677-b875-611542f95f82",
   "metadata": {},
   "outputs": [],
   "source": [
    "# Identify the 2026 prediction rows\n",
    "mask_2026 = df_final[\"year\"] == 2026\n",
    "\n",
    "# For each 2026 row, fill missing values from the most recent (latest) row of same course_id\n",
    "for i, row in df_final[mask_2026].iterrows():\n",
    "    course_id = row[\"course_id\"]\n",
    "\n",
    "    # Get latest available row for that course_id (excluding 2026 prediction)\n",
    "    ref_row = df_final[(df_final[\"course_id\"] == course_id) & (df_final[\"year\"] < 2026)]\n",
    "    if not ref_row.empty:\n",
    "        ref_row = ref_row.sort_values(\"year\").iloc[-1]\n",
    "\n",
    "        # Fill NaNs / overwrite only empty values\n",
    "        for col in df_final.columns:\n",
    "            if pd.isna(df_final.at[i, col]) or col not in [\"year\", \"total_seats\", \"cr\"]:\n",
    "                df_final.at[i, col] = ref_row[col]   "
   ]
  },
  {
   "cell_type": "code",
   "execution_count": 11,
   "id": "21708009-a5a2-473b-9697-bcfb3189c496",
   "metadata": {},
   "outputs": [],
   "source": [
    "# Count number of years per course_id\n",
    "counts = df.groupby(\"course_id\")[\"year\"].count()\n",
    "\n",
    "# Get course_ids that appear only once\n",
    "single_courses = counts[counts == 1].index  \n",
    "\n",
    "# Select only those with year == 2025 (keep original index)\n",
    "df_single = df[(df[\"course_id\"].isin(single_courses)) & (df[\"year\"] == 2025)]\n",
    "k = df_single.copy()\n",
    "k['year'] = 2026\n",
    "k\n",
    "df_final = pd.concat([df_final, k], ignore_index=False)"
   ]
  },
  {
   "cell_type": "code",
   "execution_count": 12,
   "id": "89b8bfae-9626-4a04-a220-865ad8dbd14c",
   "metadata": {},
   "outputs": [],
   "source": [
    "# post processing\n",
    "df_final.loc[df_final['or'] > df_final['cr'], 'cr'] = df_final['or']+5\n",
    "df_final['or'] = df_final['or'].astype(int)\n"
   ]
  },
  {
   "cell_type": "code",
   "execution_count": 13,
   "id": "7169088f-0306-4e19-aa1e-777a74992b4d",
   "metadata": {},
   "outputs": [],
   "source": [
    "df_2026 = df_final[df_final['year'] == 2026]\n",
    "df_2026.to_csv('or_cr/predicted_values_2026.csv',index = False)"
   ]
  }
 ],
 "metadata": {
  "kernelspec": {
   "display_name": "Python 3 (ipykernel)",
   "language": "python",
   "name": "python3"
  },
  "language_info": {
   "codemirror_mode": {
    "name": "ipython",
    "version": 3
   },
   "file_extension": ".py",
   "mimetype": "text/x-python",
   "name": "python",
   "nbconvert_exporter": "python",
   "pygments_lexer": "ipython3",
   "version": "3.12.7"
  }
 },
 "nbformat": 4,
 "nbformat_minor": 5
}
