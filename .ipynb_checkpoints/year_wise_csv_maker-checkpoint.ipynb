{
 "cells": [
  {
   "cell_type": "code",
   "execution_count": 2,
   "id": "4e0ae795-419b-4539-975b-25c5955ce15a",
   "metadata": {},
   "outputs": [],
   "source": [
    "import requests\n",
    "from bs4 import BeautifulSoup\n",
    "import pandas as pd"
   ]
  },
  {
   "cell_type": "code",
   "execution_count": 3,
   "id": "411ccef2-79a4-4f3a-9f7b-d46a8d7ddfb6",
   "metadata": {},
   "outputs": [],
   "source": [
    "def html_to_csv():\n",
    "    with open(f\"data/or_cr_html/{k}.html\", 'r') as f:\n",
    "        html = f.read()\n",
    "    soup = BeautifulSoup(html, 'html')\n",
    "    raw_headers = soup.find_all('th')\n",
    "    headers = [title.text for title in raw_headers]\n",
    "    df = pd.DataFrame(columns = headers)\n",
    "    column_data = soup.find_all('tr')\n",
    "    \n",
    "    for row in column_data[1:]:\n",
    "        row_data = row.find_all('td')\n",
    "        individual_row_data = [data.text.strip() for data in row_data]\n",
    "        length = len(df)\n",
    "        \n",
    "        df.loc[length] = individual_row_data\n",
    "    df['Year'] = k\n",
    "    df.to_csv(f'data/or_cr/or_cr{k}.csv')\n",
    "for k in range(2016,2026):\n",
    "    html_to_csv()    "
   ]
  }
 ],
 "metadata": {
  "kernelspec": {
   "display_name": "Python 3 (ipykernel)",
   "language": "python",
   "name": "python3"
  },
  "language_info": {
   "codemirror_mode": {
    "name": "ipython",
    "version": 3
   },
   "file_extension": ".py",
   "mimetype": "text/x-python",
   "name": "python",
   "nbconvert_exporter": "python",
   "pygments_lexer": "ipython3",
   "version": "3.12.7"
  }
 },
 "nbformat": 4,
 "nbformat_minor": 5
}
